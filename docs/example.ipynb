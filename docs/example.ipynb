{
 "cells": [
  {
   "cell_type": "markdown",
   "source": [
    "# unpdf\n",
    "\n",
    "## Usage Examples\n",
    "\n",
    "__This notebook is used to demonstrate how to use the package for extracting and chunking text from PDFs.__"
   ],
   "metadata": {
    "collapsed": false
   }
  },
  {
   "cell_type": "markdown",
   "source": [
    "### Libraries"
   ],
   "metadata": {
    "collapsed": false
   }
  },
  {
   "cell_type": "code",
   "execution_count": 1,
   "outputs": [
    {
     "name": "stdout",
     "output_type": "stream",
     "text": [
      "Loaded!\n"
     ]
    }
   ],
   "source": [
    "# standard library\n",
    "import os\n",
    "\n",
    "# this package\n",
    "import unpdf\n",
    "\n",
    "print('Loaded!')"
   ],
   "metadata": {
    "collapsed": false,
    "ExecuteTime": {
     "start_time": "2023-03-31T22:17:33.610342Z",
     "end_time": "2023-03-31T22:17:33.993179Z"
    }
   }
  },
  {
   "cell_type": "markdown",
   "source": [
    "## I. Text Extraction from PDFs"
   ],
   "metadata": {
    "collapsed": false
   }
  },
  {
   "cell_type": "code",
   "execution_count": 2,
   "outputs": [],
   "source": [
    "file_path = os.path.join(os.pardir, 'tests', 'lorem.pdf')"
   ],
   "metadata": {
    "collapsed": false,
    "ExecuteTime": {
     "start_time": "2023-03-31T22:17:33.993637Z",
     "end_time": "2023-03-31T22:17:33.994924Z"
    }
   }
  },
  {
   "cell_type": "code",
   "execution_count": 3,
   "outputs": [
    {
     "name": "stderr",
     "output_type": "stream",
     "text": [
      "2it [00:00, 232.26it/s]"
     ]
    },
    {
     "name": "stdout",
     "output_type": "stream",
     "text": [
      "Pages: 2\n"
     ]
    },
    {
     "name": "stderr",
     "output_type": "stream",
     "text": [
      "\n"
     ]
    }
   ],
   "source": [
    "doc = unpdf.extraction.extract_text(input_data=file_path, progress_bar=True)\n",
    "print(f'Pages:', len(doc))"
   ],
   "metadata": {
    "collapsed": false,
    "ExecuteTime": {
     "start_time": "2023-03-31T22:17:33.996952Z",
     "end_time": "2023-03-31T22:17:34.045452Z"
    }
   }
  },
  {
   "cell_type": "code",
   "execution_count": 4,
   "outputs": [
    {
     "data": {
      "text/plain": "PageEntity(doc_id='lorem.pdf', page_id=0, text='Lorem Ipsum: 10 Paragraphs\\r\\nLorem ipsum dolor sit amet, consectetur adipiscing elit, sed do eiusmod tempor incididunt ut labore \\r\\net dolore magna aliqua. Viverra vitae congue eu consequat. Egestas erat imperdiet sed euismod nisi \\r\\nporta lorem mollis. Viverra justo nec ultrices dui sapien eget mi proin. Vulputate enim nulla aliquet \\r\\nporttitor lacus. Donec ac odio tempor orci dapibus. Quis hendrerit dolor magna eget est. Pharetra \\r\\nmassa massa ultricies mi quis hendrerit dolor magna. Mauris ultrices eros in cursus turpis massa \\r\\ntincidunt. Nibh sit amet commodo nulla facilisi nullam. Ullamcorper eget nulla facilisi etiam \\r\\ndignissim diam quis enim. Est ultricies integer quis auctor elit. Semper quis lectus nulla at volutpat \\r\\ndiam ut venenatis. Dapibus ultrices in iaculis nunc sed augue lacus.\\r\\nQuam id leo in vitae turpis massa sed. Tellus in metus vulputate eu. Tristique risus nec feugiat in \\r\\nfermentum. Neque laoreet suspendisse interdum consectetur libero id faucibus nisl tincidunt. Lorem \\r\\ndonec massa sapien faucibus. Porta nibh venenatis cras sed felis eget velit aliquet. Et netus et \\r\\nmalesuada fames ac turpis egestas sed. Sed ullamcorper morbi tincidunt ornare massa. \\r\\nCondimentum id venenatis a condimentum vitae sapien. Pulvinar neque laoreet suspendisse \\r\\ninterdum consectetur libero id faucibus. Lacus luctus accumsan tortor posuere ac ut. Diam donec \\r\\nadipiscing tristique risus nec feugiat in fermentum posuere. Velit dignissim sodales ut eu sem \\r\\ninteger vitae justo eget. Aliquam ultrices sagittis orci a scelerisque. Arcu cursus vitae congue mauris \\r\\nrhoncus aenean vel. A diam maecenas sed enim ut. Semper eget duis at tellus at urna condimentum \\r\\nmattis. Ultrices gravida dictum fusce ut placerat orci. Enim ut sem viverra aliquet eget sit amet.\\r\\nPurus in mollis nunc sed id. Nec feugiat in fermentum posuere urna nec tincidunt praesent semper. \\r\\nNec tincidunt praesent semper feugiat nibh sed pulvinar proin. Pellentesque pulvinar pellentesque \\r\\nhabitant morbi. Elementum sagittis vitae et leo duis ut diam quam. Vehicula ipsum a arcu cursus \\r\\nvitae congue mauris rhoncus aenean. Vulputate odio ut enim blandit volutpat maecenas volutpat \\r\\nblandit. Integer vitae justo eget magna fermentum iaculis. Tempor orci dapibus ultrices in. Non arcu \\r\\nrisus quis varius quam quisque. Dictum sit amet justo donec enim diam vulputate. Enim facilisis \\r\\ngravida neque convallis. Tortor vitae purus faucibus ornare suspendisse sed. In nulla posuere \\r\\nsollicitudin aliquam ultrices sagittis orci a.\\r\\nLorem ipsum dolor sit amet consectetur adipiscing elit pellentesque. Vehicula ipsum a arcu cursus \\r\\nvitae. Non consectetur a erat nam at. Facilisi morbi tempus iaculis urna. Ultrices eros in cursus \\r\\nturpis massa tincidunt dui ut. Mattis molestie a iaculis at erat pellentesque adipiscing commodo elit. \\r\\nPurus semper eget duis at tellus at. Pellentesque dignissim enim sit amet venenatis. Proin \\r\\nfermentum leo vel orci. Blandit cursus risus at ultrices mi tempus. Tincidunt nunc pulvinar sapien \\r\\net. Cursus vitae congue mauris rhoncus. Imperdiet nulla malesuada pellentesque elit eget gravida \\r\\ncum sociis. Proin libero nunc consequat interdum varius sit amet. Nulla pellentesque dignissim \\r\\nenim sit. Risus nec feugiat in fermentum posuere. Nisi quis eleifend quam adipiscing vitae.\\r\\nVenenatis tellus in metus vulputate eu scelerisque felis imperdiet proin. Sapien \\r\\nfaucibus et molestie ac feugiat sed lectus. Et netus et malesuada fames ac turpis \\r\\negestas. Erat velit scelerisque in dictum non consectetur. Massa ultricies mi quis \\r\\nhendrerit dolor magna. Imperdiet massa tincidunt nunc pulvinar sapien et ligula \\r\\nullamcorper. Tempus egestas sed sed risus pretium quam vulputate dignissim \\r\\nsuspendisse. Varius morbi enim nunc faucibus. Sit amet nulla facilisi morbi tempus \\r\\niaculis urna id volutpat. Nunc mi ipsum faucibus vitae.\\r\\nBox 1. Information', error=False)"
     },
     "execution_count": 4,
     "metadata": {},
     "output_type": "execute_result"
    }
   ],
   "source": [
    "# get the first page\n",
    "doc.pages[0]"
   ],
   "metadata": {
    "collapsed": false,
    "ExecuteTime": {
     "start_time": "2023-03-31T22:17:34.018295Z",
     "end_time": "2023-03-31T22:17:34.045903Z"
    }
   }
  },
  {
   "cell_type": "code",
   "execution_count": 5,
   "outputs": [
    {
     "data": {
      "text/plain": "True"
     },
     "execution_count": 5,
     "metadata": {},
     "output_type": "execute_result"
    }
   ],
   "source": [
    "# or equivalently, since DocumentEntity is subscriptable by default\n",
    "doc[0] == doc.pages[0]"
   ],
   "metadata": {
    "collapsed": false,
    "ExecuteTime": {
     "start_time": "2023-03-31T22:17:34.021642Z",
     "end_time": "2023-03-31T22:17:34.046112Z"
    }
   }
  },
  {
   "cell_type": "code",
   "execution_count": 6,
   "outputs": [
    {
     "data": {
      "text/plain": "2"
     },
     "execution_count": 6,
     "metadata": {},
     "output_type": "execute_result"
    }
   ],
   "source": [
    "# you can iterate through a DocumentEntity to get pages\n",
    "len([page for page in doc])"
   ],
   "metadata": {
    "collapsed": false,
    "ExecuteTime": {
     "start_time": "2023-03-31T22:17:34.024838Z",
     "end_time": "2023-03-31T22:17:34.046209Z"
    }
   }
  },
  {
   "cell_type": "markdown",
   "source": [
    "## II. Text Chunking (Segmentation)"
   ],
   "metadata": {
    "collapsed": false
   }
  },
  {
   "cell_type": "code",
   "execution_count": 7,
   "outputs": [
    {
     "data": {
      "text/plain": "Chunker(pipe_batch_size=16, add_sentence_metadata=False)"
     },
     "execution_count": 7,
     "metadata": {},
     "output_type": "execute_result"
    }
   ],
   "source": [
    "# instantiate a Chunker\n",
    "chunker = unpdf.chunking.Chunker()\n",
    "chunker"
   ],
   "metadata": {
    "collapsed": false,
    "ExecuteTime": {
     "start_time": "2023-03-31T22:17:34.027483Z",
     "end_time": "2023-03-31T22:17:34.309673Z"
    }
   }
  },
  {
   "cell_type": "code",
   "execution_count": 8,
   "outputs": [
    {
     "name": "stdout",
     "output_type": "stream",
     "text": [
      "Chunker(pipe_batch_size=16, add_sentence_metadata=False) powered by en core_web_sm model from spaCy v3.5.0.\n"
     ]
    }
   ],
   "source": [
    "print(chunker)"
   ],
   "metadata": {
    "collapsed": false,
    "ExecuteTime": {
     "start_time": "2023-03-31T22:17:34.310284Z",
     "end_time": "2023-03-31T22:17:34.312976Z"
    }
   }
  },
  {
   "cell_type": "code",
   "execution_count": 9,
   "outputs": [
    {
     "name": "stdout",
     "output_type": "stream",
     "text": [
      "Paragraphs: 19\n"
     ]
    },
    {
     "data": {
      "text/plain": "QuasiParagraphEntity(doc_id='lorem.pdf', page_id=0, text='Lorem Ipsum: 10 Paragraphs Lorem ipsum dolor sit amet, consectetur adipiscing elit, sed do eiusmod tempor incididunt ut labore et dolore magna aliqua. Viverra vitae congue eu consequat. Egestas erat imperdiet sed euismod nisi porta lorem mollis. Viverra justo nec ultrices dui sapien eget mi proin. Vulputate enim nulla aliquet porttitor lacus. Donec ac odio tempor orci dapibus. Quis hendrerit dolor magna eget est. Pharetra massa massa ultricies mi quis hendrerit dolor magna. Mauris ultrices eros in cursus turpis massa tincidunt. Nibh sit amet commodo nulla facilisi nullam. Ullamcorper eget nulla facilisi etiam dignissim diam quis enim. Est ultricies integer quis auctor elit. Semper quis lectus nulla at volutpat diam ut venenatis. Dapibus ultrices in iaculis nunc sed augue lacus.', paragraph_id=0)"
     },
     "execution_count": 9,
     "metadata": {},
     "output_type": "execute_result"
    }
   ],
   "source": [
    "# you can chunk a DocumentEntity into paragraphs\n",
    "paragraphs = chunker.get_quasiparagraphs(doc)\n",
    "print('Paragraphs:', len(paragraphs))\n",
    "paragraphs[0]"
   ],
   "metadata": {
    "collapsed": false,
    "ExecuteTime": {
     "start_time": "2023-03-31T22:17:34.313937Z",
     "end_time": "2023-03-31T22:17:34.316721Z"
    }
   }
  },
  {
   "cell_type": "code",
   "execution_count": 10,
   "outputs": [
    {
     "name": "stdout",
     "output_type": "stream",
     "text": [
      "Paragraphs: 8\n"
     ]
    },
    {
     "data": {
      "text/plain": "QuasiParagraphEntity(doc_id='lorem.pdf', page_id=0, text='Lorem Ipsum: 10 Paragraphs Lorem ipsum dolor sit amet, consectetur adipiscing elit, sed do eiusmod tempor incididunt ut labore et dolore magna aliqua. Viverra vitae congue eu consequat. Egestas erat imperdiet sed euismod nisi porta lorem mollis. Viverra justo nec ultrices dui sapien eget mi proin. Vulputate enim nulla aliquet porttitor lacus. Donec ac odio tempor orci dapibus. Quis hendrerit dolor magna eget est. Pharetra massa massa ultricies mi quis hendrerit dolor magna. Mauris ultrices eros in cursus turpis massa tincidunt. Nibh sit amet commodo nulla facilisi nullam. Ullamcorper eget nulla facilisi etiam dignissim diam quis enim. Est ultricies integer quis auctor elit. Semper quis lectus nulla at volutpat diam ut venenatis. Dapibus ultrices in iaculis nunc sed augue lacus.', paragraph_id=0)"
     },
     "execution_count": 10,
     "metadata": {},
     "output_type": "execute_result"
    }
   ],
   "source": [
    "# you can also chunk a PageEntity into paragraphs\n",
    "paragraphs = chunker.get_quasiparagraphs(doc[0])\n",
    "print('Paragraphs:', len(paragraphs))\n",
    "paragraphs[0]"
   ],
   "metadata": {
    "collapsed": false,
    "ExecuteTime": {
     "start_time": "2023-03-31T22:17:34.318975Z",
     "end_time": "2023-03-31T22:17:34.321746Z"
    }
   }
  },
  {
   "cell_type": "code",
   "execution_count": 11,
   "outputs": [
    {
     "name": "stdout",
     "output_type": "stream",
     "text": [
      "Sentences: 137\n"
     ]
    },
    {
     "data": {
      "text/plain": "SentenceEntity(doc_id='lorem.pdf', page_id=0, text='Lorem Ipsum: 10 Paragraphs Lorem ipsum dolor sit amet, consectetur adipiscing elit, sed do eiusmod tempor incididunt ut labore et dolore magna aliqua.', sentence_id=0, metadata=None)"
     },
     "execution_count": 11,
     "metadata": {},
     "output_type": "execute_result"
    }
   ],
   "source": [
    "# DocumentEntity, PageEntity or ParagraphEntity can all be chunked into sentences\n",
    "sentences = chunker.get_sentences(doc)\n",
    "print('Sentences:', len(sentences))\n",
    "sentences[0]"
   ],
   "metadata": {
    "collapsed": false,
    "ExecuteTime": {
     "start_time": "2023-03-31T22:17:34.327250Z",
     "end_time": "2023-03-31T22:17:34.456267Z"
    }
   }
  },
  {
   "cell_type": "code",
   "execution_count": 12,
   "outputs": [
    {
     "name": "stdout",
     "output_type": "stream",
     "text": [
      "Sentences: 77\n"
     ]
    },
    {
     "data": {
      "text/plain": "SentenceEntity(doc_id='lorem.pdf', page_id=0, text='Lorem Ipsum: 10 Paragraphs Lorem ipsum dolor sit amet, consectetur adipiscing elit, sed do eiusmod tempor incididunt ut labore et dolore magna aliqua.', sentence_id=0, metadata=None)"
     },
     "execution_count": 12,
     "metadata": {},
     "output_type": "execute_result"
    }
   ],
   "source": [
    "sentences = chunker.get_sentences(doc[0])\n",
    "print('Sentences:', len(sentences))\n",
    "sentences[0]"
   ],
   "metadata": {
    "collapsed": false,
    "ExecuteTime": {
     "start_time": "2023-03-31T22:17:34.459072Z",
     "end_time": "2023-03-31T22:17:34.525218Z"
    }
   }
  },
  {
   "cell_type": "code",
   "execution_count": 13,
   "outputs": [
    {
     "name": "stdout",
     "output_type": "stream",
     "text": [
      "Sentences: 14\n"
     ]
    },
    {
     "data": {
      "text/plain": "SentenceEntity(doc_id='lorem.pdf', page_id=0, text='Lorem Ipsum: 10 Paragraphs Lorem ipsum dolor sit amet, consectetur adipiscing elit, sed do eiusmod tempor incididunt ut labore et dolore magna aliqua.', sentence_id=0, metadata=None)"
     },
     "execution_count": 13,
     "metadata": {},
     "output_type": "execute_result"
    }
   ],
   "source": [
    "sentences = chunker.get_sentences(paragraphs[0])\n",
    "print('Sentences:', len(sentences))\n",
    "sentences[0]"
   ],
   "metadata": {
    "collapsed": false,
    "ExecuteTime": {
     "start_time": "2023-03-31T22:17:34.526133Z",
     "end_time": "2023-03-31T22:17:34.543750Z"
    }
   }
  },
  {
   "cell_type": "code",
   "execution_count": 14,
   "outputs": [
    {
     "data": {
      "text/plain": "True"
     },
     "execution_count": 14,
     "metadata": {},
     "output_type": "execute_result"
    }
   ],
   "source": [
    "# derived sentences are always identical if the entity is a document or page but may be different for paragraphs\n",
    "chunker.get_sentences(doc)[0] == chunker.get_sentences(doc[0])[0] == chunker.get_sentences(paragraphs[0])[0]"
   ],
   "metadata": {
    "collapsed": false,
    "ExecuteTime": {
     "start_time": "2023-03-31T22:17:34.547068Z",
     "end_time": "2023-03-31T22:17:34.739342Z"
    }
   }
  },
  {
   "cell_type": "code",
   "execution_count": 15,
   "outputs": [],
   "source": [
    "# chunker can add sentence metadata like tokens and named enties\n",
    "chunker.add_sentence_metadata = True"
   ],
   "metadata": {
    "collapsed": false,
    "ExecuteTime": {
     "start_time": "2023-03-31T22:17:34.739620Z",
     "end_time": "2023-03-31T22:17:34.741481Z"
    }
   }
  },
  {
   "cell_type": "code",
   "execution_count": 16,
   "outputs": [
    {
     "name": "stdout",
     "output_type": "stream",
     "text": [
      "Sentences: 14\n"
     ]
    },
    {
     "data": {
      "text/plain": "SentenceEntity(doc_id='lorem.pdf', page_id=0, text='Lorem Ipsum: 10 Paragraphs Lorem ipsum dolor sit amet, consectetur adipiscing elit, sed do eiusmod tempor incididunt ut labore et dolore magna aliqua.', sentence_id=0, metadata=MetadataEntity(length=27, tokens=['Lorem', 'Ipsum', ':', '10', 'Paragraphs', 'Lorem', 'ipsum', 'dolor', 'sit', 'amet', ',', 'consectetur', 'adipiscing', 'elit', ',', 'sed', 'eiusmod', 'tempor', 'incididunt', 'ut', 'labore', 'et', 'dolore', 'magna', 'aliqua', '.'], noun_chunks=['Lorem Ipsum', '10 Paragraphs Lorem', 'dolor sit amet', 'do eiusmod tempor incididunt', 'labore', 'et dolore magna aliqua'], subject_phrases=['Lorem Ipsum: 10 Paragraphs Lorem ipsum dolor sit amet, consectetur adipiscing elit,', '10 Paragraphs Lorem'], dobject_phrases=['dolor sit amet', 'do eiusmod tempor incididunt ut labore et dolore magna aliqua']))"
     },
     "execution_count": 16,
     "metadata": {},
     "output_type": "execute_result"
    }
   ],
   "source": [
    "sentences = chunker.get_sentences(paragraphs[0])\n",
    "print('Sentences:', len(sentences))\n",
    "sentences[0]"
   ],
   "metadata": {
    "collapsed": false,
    "ExecuteTime": {
     "start_time": "2023-03-31T22:17:34.743092Z",
     "end_time": "2023-03-31T22:17:34.769963Z"
    }
   }
  },
  {
   "cell_type": "code",
   "execution_count": 17,
   "outputs": [
    {
     "data": {
      "text/plain": "MetadataEntity(length=27, tokens=['Lorem', 'Ipsum', ':', '10', 'Paragraphs', 'Lorem', 'ipsum', 'dolor', 'sit', 'amet', ',', 'consectetur', 'adipiscing', 'elit', ',', 'sed', 'eiusmod', 'tempor', 'incididunt', 'ut', 'labore', 'et', 'dolore', 'magna', 'aliqua', '.'], noun_chunks=['Lorem Ipsum', '10 Paragraphs Lorem', 'dolor sit amet', 'do eiusmod tempor incididunt', 'labore', 'et dolore magna aliqua'], subject_phrases=['Lorem Ipsum: 10 Paragraphs Lorem ipsum dolor sit amet, consectetur adipiscing elit,', '10 Paragraphs Lorem'], dobject_phrases=['dolor sit amet', 'do eiusmod tempor incididunt ut labore et dolore magna aliqua'])"
     },
     "execution_count": 17,
     "metadata": {},
     "output_type": "execute_result"
    }
   ],
   "source": [
    "# the metadata is available as a SentenceEntity metadata attribute\n",
    "sentences[0].metadata"
   ],
   "metadata": {
    "collapsed": false,
    "ExecuteTime": {
     "start_time": "2023-03-31T22:17:34.762904Z",
     "end_time": "2023-03-31T22:17:34.770240Z"
    }
   }
  },
  {
   "cell_type": "code",
   "execution_count": 18,
   "outputs": [
    {
     "data": {
      "text/plain": "[QuasiParagraphEntity(doc_id='lorem.pdf', page_id=0, text='Lorem Ipsum: 10 Paragraphs Lorem ipsum dolor sit amet, consectetur adipiscing elit, sed do eiusmod tempor incididunt ut labore et dolore magna aliqua. Viverra vitae congue eu consequat. Egestas erat imperdiet sed euismod nisi porta lorem mollis. Viverra justo nec ultrices dui sapien eget mi proin. Vulputate enim nulla aliquet porttitor lacus. Donec ac odio tempor orci dapibus. Quis hendrerit dolor magna eget est. Pharetra massa massa ultricies mi quis hendrerit dolor magna. Mauris ultrices eros in cursus turpis massa tincidunt. Nibh sit amet commodo nulla facilisi nullam.', paragraph_id=0),\n QuasiParagraphEntity(doc_id='lorem.pdf', page_id=0, text='Ullamcorper eget nulla facilisi etiam dignissim diam quis enim. Est ultricies integer quis auctor elit. Semper quis lectus nulla at volutpat diam ut venenatis. Dapibus ultrices in iaculis nunc sed augue lacus. Quam id leo in vitae turpis massa sed. Tellus in metus vulputate eu. Tristique risus nec feugiat in fermentum. Neque laoreet suspendisse interdum consectetur libero id faucibus nisl tincidunt. Lorem donec massa sapien faucibus. Porta nibh venenatis cras sed felis eget velit aliquet.', paragraph_id=1),\n QuasiParagraphEntity(doc_id='lorem.pdf', page_id=0, text='Et netus et malesuada fames ac turpis egestas sed. Sed ullamcorper morbi tincidunt ornare massa. Condimentum id venenatis a condimentum vitae sapien. Pulvinar neque laoreet suspendisse interdum consectetur libero id faucibus. Lacus luctus accumsan tortor posuere ac ut. Diam donec adipiscing tristique risus nec feugiat in fermentum posuere. Velit dignissim sodales ut eu sem integer vitae justo eget. Aliquam ultrices sagittis orci a scelerisque. Arcu cursus vitae congue mauris rhoncus aenean vel.', paragraph_id=2),\n QuasiParagraphEntity(doc_id='lorem.pdf', page_id=0, text='A diam maecenas sed enim ut. Semper eget duis at tellus at urna condimentum mattis. Ultrices gravida dictum fusce ut placerat orci. Enim ut sem viverra aliquet eget sit amet. Purus in mollis nunc sed id. Nec feugiat in fermentum posuere urna nec tincidunt praesent semper. Nec tincidunt praesent semper feugiat nibh sed pulvinar proin. Pellentesque pulvinar pellentesque habitant morbi. Elementum sagittis vitae et leo duis ut diam quam. Vehicula ipsum a arcu cursus vitae congue mauris rhoncus aenean.', paragraph_id=3),\n QuasiParagraphEntity(doc_id='lorem.pdf', page_id=0, text='Vulputate odio ut enim blandit volutpat maecenas volutpat blandit. Integer vitae justo eget magna fermentum iaculis. Tempor orci dapibus ultrices in. Non arcu risus quis varius quam quisque. Dictum sit amet justo donec enim diam vulputate. Enim facilisis gravida neque convallis. Tortor vitae purus faucibus ornare suspendisse sed. In nulla posuere sollicitudin aliquam ultrices sagittis orci a. Lorem ipsum dolor sit amet consectetur adipiscing elit pellentesque. Vehicula ipsum a arcu cursus vitae.', paragraph_id=4),\n QuasiParagraphEntity(doc_id='lorem.pdf', page_id=0, text='Non consectetur a erat nam at. Facilisi morbi tempus iaculis urna. Ultrices eros in cursus turpis massa tincidunt dui ut. Mattis molestie a iaculis at erat pellentesque adipiscing commodo elit. Purus semper eget duis at tellus at. Pellentesque dignissim enim sit amet venenatis. Proin fermentum leo vel orci. Blandit cursus risus at ultrices mi tempus. Tincidunt nunc pulvinar sapien et. Cursus vitae congue mauris rhoncus.', paragraph_id=5),\n QuasiParagraphEntity(doc_id='lorem.pdf', page_id=0, text='Imperdiet nulla malesuada pellentesque elit eget gravida cum sociis. Proin libero nunc consequat interdum varius sit amet. Nulla pellentesque dignissim enim sit. Risus nec feugiat in fermentum posuere. Nisi quis eleifend quam adipiscing vitae. Venenatis tellus in metus vulputate eu scelerisque felis imperdiet proin. Sapien faucibus et molestie ac feugiat sed lectus. Et netus et malesuada fames ac turpis egestas. Erat velit scelerisque in dictum non consectetur. Massa ultricies mi quis hendrerit dolor magna.', paragraph_id=6)]"
     },
     "execution_count": 18,
     "metadata": {},
     "output_type": "execute_result"
    }
   ],
   "source": [
    "chunker.get_slices_from_page(doc[0], window_size=10, step_size=10)"
   ],
   "metadata": {
    "collapsed": false,
    "ExecuteTime": {
     "start_time": "2023-03-31T22:17:34.768668Z",
     "end_time": "2023-03-31T22:17:34.858354Z"
    }
   }
  },
  {
   "cell_type": "markdown",
   "source": [
    "## III. Performance\n",
    "\n",
    "TBC."
   ],
   "metadata": {
    "collapsed": false
   }
  },
  {
   "cell_type": "code",
   "execution_count": 19,
   "outputs": [
    {
     "name": "stdout",
     "output_type": "stream",
     "text": [
      "Pages: 838\n",
      "Paragraphs: 4182\n",
      "Sentences: 9834\n",
      "CPU times: user 23.9 s, sys: 455 ms, total: 24.3 s\n",
      "Wall time: 24.4 s\n"
     ]
    }
   ],
   "source": [
    "%%time\n",
    "\n",
    "file_path = os.path.join(os.pardir, 'tests', '6130-pdf-compressed.pdf')\n",
    "chunker = unpdf.chunking.Chunker()\n",
    "\n",
    "doc = unpdf.extraction.extract_text(input_data=file_path)\n",
    "print(f'Pages:', len(doc))\n",
    "\n",
    "paragraphs = chunker.get_quasiparagraphs(doc)\n",
    "print('Paragraphs:', len(paragraphs))\n",
    "\n",
    "sentences = chunker.get_sentences(doc)\n",
    "print('Sentences:', len(sentences))"
   ],
   "metadata": {
    "collapsed": false,
    "ExecuteTime": {
     "start_time": "2023-03-31T22:17:34.856762Z",
     "end_time": "2023-03-31T22:17:59.269296Z"
    }
   }
  },
  {
   "cell_type": "code",
   "execution_count": 19,
   "outputs": [],
   "source": [],
   "metadata": {
    "collapsed": false,
    "ExecuteTime": {
     "start_time": "2023-03-31T22:17:59.269590Z",
     "end_time": "2023-03-31T22:17:59.271329Z"
    }
   }
  }
 ],
 "metadata": {
  "kernelspec": {
   "display_name": "Python 3",
   "language": "python",
   "name": "python3"
  },
  "language_info": {
   "codemirror_mode": {
    "name": "ipython",
    "version": 2
   },
   "file_extension": ".py",
   "mimetype": "text/x-python",
   "name": "python",
   "nbconvert_exporter": "python",
   "pygments_lexer": "ipython2",
   "version": "2.7.6"
  }
 },
 "nbformat": 4,
 "nbformat_minor": 0
}
