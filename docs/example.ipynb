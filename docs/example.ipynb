{
 "cells": [
  {
   "cell_type": "markdown",
   "source": [
    "# unpdf\n",
    "\n",
    "## Usage Examples\n",
    "\n",
    "__This notebook is used to demonstrate how to use the package for extracting and chunking text from PDFs.__"
   ],
   "metadata": {
    "collapsed": false
   }
  },
  {
   "cell_type": "markdown",
   "source": [
    "### Libraries"
   ],
   "metadata": {
    "collapsed": false
   }
  },
  {
   "cell_type": "code",
   "execution_count": 1,
   "outputs": [
    {
     "name": "stdout",
     "output_type": "stream",
     "text": [
      "Loaded!\n"
     ]
    }
   ],
   "source": [
    "# standard library\n",
    "import os\n",
    "\n",
    "# this package\n",
    "import unpdf\n",
    "\n",
    "print('Loaded!')"
   ],
   "metadata": {
    "collapsed": false,
    "ExecuteTime": {
     "start_time": "2023-04-19T11:22:39.256330Z",
     "end_time": "2023-04-19T11:22:39.667631Z"
    }
   }
  },
  {
   "cell_type": "markdown",
   "source": [
    "## I. Text Extraction from PDFs"
   ],
   "metadata": {
    "collapsed": false
   }
  },
  {
   "cell_type": "code",
   "execution_count": 2,
   "outputs": [],
   "source": [
    "file_path = os.path.join(os.pardir, 'tests', '6130-pdf-compressed-book-i.pdf')"
   ],
   "metadata": {
    "collapsed": false,
    "ExecuteTime": {
     "start_time": "2023-04-19T11:22:39.668584Z",
     "end_time": "2023-04-19T11:22:39.670490Z"
    }
   }
  },
  {
   "cell_type": "code",
   "execution_count": 3,
   "outputs": [
    {
     "name": "stderr",
     "output_type": "stream",
     "text": [
      "41it [00:00, 1241.68it/s]"
     ]
    },
    {
     "name": "stdout",
     "output_type": "stream",
     "text": [
      "Pages: 41\n"
     ]
    },
    {
     "name": "stderr",
     "output_type": "stream",
     "text": [
      "\n"
     ]
    }
   ],
   "source": [
    "doc = unpdf.extraction.extract_text(input_data=file_path, progress_bar=True)\n",
    "print(f'Pages:', len(doc))"
   ],
   "metadata": {
    "collapsed": false,
    "ExecuteTime": {
     "start_time": "2023-04-19T11:22:39.671865Z",
     "end_time": "2023-04-19T11:22:39.714586Z"
    }
   }
  },
  {
   "cell_type": "code",
   "execution_count": 4,
   "outputs": [
    {
     "data": {
      "text/plain": "Page(doc_id='6130-pdf-compressed-book-i.pdf', page_id=0, text='The Project Gutenberg EBook of The Iliad of Homer by Homer\\r\\nThis eBook is for the use of anyone anywhere at no cost\\r\\nand with almost no restrictions whatsoever. You may copy\\r\\nit, give it away or re-use it under the terms of the Project\\r\\nGutenberg License included with this eBook or online at\\r\\nhttp://www.gutenberg.org/license\\r\\nTitle: The Iliad of Homer\\r\\nAuthor: Homer\\r\\nRelease Date: September 2006 [Ebook 6130]\\r\\nLanguage: English\\r\\n***START OF THE PROJECT GUTENBERG EBOOK\\r\\nTHE ILIAD OF HOMER***', error=False)"
     },
     "execution_count": 4,
     "metadata": {},
     "output_type": "execute_result"
    }
   ],
   "source": [
    "# get the first page\n",
    "doc.pages[0]"
   ],
   "metadata": {
    "collapsed": false,
    "ExecuteTime": {
     "start_time": "2023-04-19T11:22:39.716480Z",
     "end_time": "2023-04-19T11:22:39.718901Z"
    }
   }
  },
  {
   "cell_type": "code",
   "execution_count": 5,
   "outputs": [
    {
     "data": {
      "text/plain": "True"
     },
     "execution_count": 5,
     "metadata": {},
     "output_type": "execute_result"
    }
   ],
   "source": [
    "# or equivalently, since Document is subscriptable by default\n",
    "doc[0] == doc.pages[0]"
   ],
   "metadata": {
    "collapsed": false,
    "ExecuteTime": {
     "start_time": "2023-04-19T11:22:39.720417Z",
     "end_time": "2023-04-19T11:22:39.722695Z"
    }
   }
  },
  {
   "cell_type": "code",
   "execution_count": 6,
   "outputs": [
    {
     "data": {
      "text/plain": "41"
     },
     "execution_count": 6,
     "metadata": {},
     "output_type": "execute_result"
    }
   ],
   "source": [
    "# you can iterate through a Document to get pages\n",
    "len([page for page in doc])"
   ],
   "metadata": {
    "collapsed": false,
    "ExecuteTime": {
     "start_time": "2023-04-19T11:22:39.723458Z",
     "end_time": "2023-04-19T11:22:39.725386Z"
    }
   }
  },
  {
   "cell_type": "markdown",
   "source": [
    "## II. Text Chunking (Segmentation)"
   ],
   "metadata": {
    "collapsed": false
   }
  },
  {
   "cell_type": "code",
   "execution_count": 7,
   "outputs": [
    {
     "data": {
      "text/plain": "Chunker()"
     },
     "execution_count": 7,
     "metadata": {},
     "output_type": "execute_result"
    }
   ],
   "source": [
    "# instantiate a Chunker\n",
    "chunker = unpdf.chunking.Chunker()\n",
    "chunker"
   ],
   "metadata": {
    "collapsed": false,
    "ExecuteTime": {
     "start_time": "2023-04-19T11:22:39.725939Z",
     "end_time": "2023-04-19T11:22:40.004993Z"
    }
   }
  },
  {
   "cell_type": "code",
   "execution_count": 8,
   "outputs": [
    {
     "name": "stdout",
     "output_type": "stream",
     "text": [
      "Chunker() powered by en core_web_sm model from spaCy v3.5.0.\n"
     ]
    }
   ],
   "source": [
    "print(chunker)"
   ],
   "metadata": {
    "collapsed": false,
    "ExecuteTime": {
     "start_time": "2023-04-19T11:22:40.005804Z",
     "end_time": "2023-04-19T11:22:40.007604Z"
    }
   }
  },
  {
   "cell_type": "code",
   "execution_count": 9,
   "outputs": [
    {
     "name": "stdout",
     "output_type": "stream",
     "text": [
      "Paragraphs: 175\n"
     ]
    },
    {
     "data": {
      "text/plain": "QuasiParagraph(doc_id='6130-pdf-compressed-book-i.pdf', page_id=0, text='The Project Gutenberg EBook of The Iliad of Homer by Homer This eBook is for the use of anyone anywhere at no cost and with almost no restrictions whatsoever. You may copy it, give it away or re-use it under the terms of the Project Gutenberg License included with this eBook or online at http://www.gutenberg.org/license Title: The Iliad of Homer Author: Homer Release Date: September 2006 [Ebook 6130] Language: English ***START OF THE PROJECT GUTENBERG EBOOK THE ILIAD OF HOMER***', paragraph_id=0)"
     },
     "execution_count": 9,
     "metadata": {},
     "output_type": "execute_result"
    }
   ],
   "source": [
    "# you can chunk a Document into paragraphs\n",
    "paragraphs = chunker.get_quasiparagraphs(doc)\n",
    "print('Paragraphs:', len(paragraphs))\n",
    "paragraphs[0]"
   ],
   "metadata": {
    "collapsed": false,
    "ExecuteTime": {
     "start_time": "2023-04-19T11:22:40.012512Z",
     "end_time": "2023-04-19T11:22:40.203226Z"
    }
   }
  },
  {
   "cell_type": "code",
   "execution_count": 10,
   "outputs": [
    {
     "name": "stdout",
     "output_type": "stream",
     "text": [
      "Paragraphs: 1\n"
     ]
    },
    {
     "data": {
      "text/plain": "QuasiParagraph(doc_id='6130-pdf-compressed-book-i.pdf', page_id=0, text='The Project Gutenberg EBook of The Iliad of Homer by Homer This eBook is for the use of anyone anywhere at no cost and with almost no restrictions whatsoever. You may copy it, give it away or re-use it under the terms of the Project Gutenberg License included with this eBook or online at http://www.gutenberg.org/license Title: The Iliad of Homer Author: Homer Release Date: September 2006 [Ebook 6130] Language: English ***START OF THE PROJECT GUTENBERG EBOOK THE ILIAD OF HOMER***', paragraph_id=0)"
     },
     "execution_count": 10,
     "metadata": {},
     "output_type": "execute_result"
    }
   ],
   "source": [
    "# you can also chunk a Page into paragraphs\n",
    "paragraphs = chunker.get_quasiparagraphs(doc[0])\n",
    "print('Paragraphs:', len(paragraphs))\n",
    "paragraphs[0]"
   ],
   "metadata": {
    "collapsed": false,
    "ExecuteTime": {
     "start_time": "2023-04-19T11:22:40.016144Z",
     "end_time": "2023-04-19T11:22:40.203480Z"
    }
   }
  },
  {
   "cell_type": "code",
   "execution_count": 11,
   "outputs": [
    {
     "name": "stdout",
     "output_type": "stream",
     "text": [
      "Sentences: 433\n"
     ]
    },
    {
     "data": {
      "text/plain": "Sentence(doc_id='6130-pdf-compressed-book-i.pdf', page_id=0, text='The Project Gutenberg EBook of The Iliad of Homer by Homer This eBook is for the use of anyone anywhere at no cost and with almost no restrictions whatsoever.', sentence_id=0)"
     },
     "execution_count": 11,
     "metadata": {},
     "output_type": "execute_result"
    }
   ],
   "source": [
    "# Document, Page or Paragraph can all be chunked into sentences\n",
    "sentences = chunker.get_sentences(doc)\n",
    "print('Sentences:', len(sentences))\n",
    "sentences[0]"
   ],
   "metadata": {
    "collapsed": false,
    "ExecuteTime": {
     "start_time": "2023-04-19T11:22:40.020394Z",
     "end_time": "2023-04-19T11:22:41.214297Z"
    }
   }
  },
  {
   "cell_type": "code",
   "execution_count": 12,
   "outputs": [
    {
     "name": "stdout",
     "output_type": "stream",
     "text": [
      "Sentences: 4\n"
     ]
    },
    {
     "data": {
      "text/plain": "Sentence(doc_id='6130-pdf-compressed-book-i.pdf', page_id=0, text='The Project Gutenberg EBook of The Iliad of Homer by Homer This eBook is for the use of anyone anywhere at no cost and with almost no restrictions whatsoever.', sentence_id=0)"
     },
     "execution_count": 12,
     "metadata": {},
     "output_type": "execute_result"
    }
   ],
   "source": [
    "sentences = chunker.get_sentences(doc[0])\n",
    "print('Sentences:', len(sentences))\n",
    "sentences[0]"
   ],
   "metadata": {
    "collapsed": false,
    "ExecuteTime": {
     "start_time": "2023-04-19T11:22:41.214580Z",
     "end_time": "2023-04-19T11:22:41.227648Z"
    }
   }
  },
  {
   "cell_type": "code",
   "execution_count": 13,
   "outputs": [
    {
     "name": "stdout",
     "output_type": "stream",
     "text": [
      "Sentences: 4\n"
     ]
    },
    {
     "data": {
      "text/plain": "Sentence(doc_id='6130-pdf-compressed-book-i.pdf', page_id=0, text='The Project Gutenberg EBook of The Iliad of Homer by Homer This eBook is for the use of anyone anywhere at no cost and with almost no restrictions whatsoever.', sentence_id=0)"
     },
     "execution_count": 13,
     "metadata": {},
     "output_type": "execute_result"
    }
   ],
   "source": [
    "sentences = chunker.get_sentences(paragraphs[0])\n",
    "print('Sentences:', len(sentences))\n",
    "sentences[0]"
   ],
   "metadata": {
    "collapsed": false,
    "ExecuteTime": {
     "start_time": "2023-04-19T11:22:41.228433Z",
     "end_time": "2023-04-19T11:22:41.267646Z"
    }
   }
  },
  {
   "cell_type": "code",
   "execution_count": 14,
   "outputs": [
    {
     "data": {
      "text/plain": "True"
     },
     "execution_count": 14,
     "metadata": {},
     "output_type": "execute_result"
    }
   ],
   "source": [
    "# derived sentences are always identical if the entity is a document or page but may be different for paragraphs\n",
    "chunker.get_sentences(doc)[0] == chunker.get_sentences(doc[0])[0] == chunker.get_sentences(paragraphs[0])[0]"
   ],
   "metadata": {
    "collapsed": false,
    "ExecuteTime": {
     "start_time": "2023-04-19T11:22:41.244378Z",
     "end_time": "2023-04-19T11:22:42.289455Z"
    }
   }
  },
  {
   "cell_type": "code",
   "execution_count": 15,
   "outputs": [
    {
     "name": "stdout",
     "output_type": "stream",
     "text": [
      "Sentences: 433\n"
     ]
    },
    {
     "data": {
      "text/plain": "Sentence(doc_id='6130-pdf-compressed-book-i.pdf', page_id=4, text='Chryses, the father of Chryseis, and priest of Apollo, comes to the Grecian camp to ransom her; with which the action of the poem opens, in the tenth year of the siege.', sentence_id=3)"
     },
     "execution_count": 15,
     "metadata": {},
     "output_type": "execute_result"
    }
   ],
   "source": [
    "# chunker can apply an arbitrary preprocessing function that acts on spaCy docs\n",
    "sentences = chunker.get_sentences(doc)\n",
    "print('Sentences:', len(sentences))\n",
    "sentences[10]"
   ],
   "metadata": {
    "collapsed": false,
    "ExecuteTime": {
     "start_time": "2023-04-19T11:22:42.290401Z",
     "end_time": "2023-04-19T11:22:43.318962Z"
    }
   }
  },
  {
   "cell_type": "code",
   "execution_count": 16,
   "outputs": [
    {
     "name": "stdout",
     "output_type": "stream",
     "text": [
      "Sentences: 433\n"
     ]
    },
    {
     "data": {
      "text/plain": "Sentence(doc_id='6130-pdf-compressed-book-i.pdf', page_id=4, text='chryse father priest come grecian camp ransom action poem open tenth year siege', sentence_id=3)"
     },
     "execution_count": 16,
     "metadata": {},
     "output_type": "execute_result"
    }
   ],
   "source": [
    "sentences = chunker.get_sentences(doc, unpdf.cleaning.simple_preprocess)\n",
    "print('Sentences:', len(sentences))\n",
    "sentences[10]"
   ],
   "metadata": {
    "collapsed": false,
    "ExecuteTime": {
     "start_time": "2023-04-19T11:22:43.319774Z",
     "end_time": "2023-04-19T11:22:44.327022Z"
    }
   }
  },
  {
   "cell_type": "code",
   "execution_count": 17,
   "outputs": [
    {
     "name": "stdout",
     "output_type": "stream",
     "text": [
      "Sentences: 433\n"
     ]
    },
    {
     "data": {
      "text/plain": "Sentence(doc_id='6130-pdf-compressed-book-i.pdf', page_id=4, text='Chryseis Apollo', sentence_id=3)"
     },
     "execution_count": 17,
     "metadata": {},
     "output_type": "execute_result"
    }
   ],
   "source": [
    "sentences = chunker.get_sentences(doc, lambda doc: ' '.join(token.text for token in doc if token.pos_ == 'PROPN'))\n",
    "print('Sentences:', len(sentences))\n",
    "sentences[10]"
   ],
   "metadata": {
    "collapsed": false,
    "ExecuteTime": {
     "start_time": "2023-04-19T11:22:44.328830Z",
     "end_time": "2023-04-19T11:22:45.340598Z"
    }
   }
  },
  {
   "cell_type": "markdown",
   "source": [
    "## III. Performance\n",
    "\n",
    "TBC."
   ],
   "metadata": {
    "collapsed": false
   }
  },
  {
   "cell_type": "code",
   "execution_count": 18,
   "outputs": [
    {
     "name": "stdout",
     "output_type": "stream",
     "text": [
      "Pages: 41\n",
      "Paragraphs: 175\n",
      "Sentences: 433\n",
      "CPU times: user 1.37 s, sys: 39.7 ms, total: 1.41 s\n",
      "Wall time: 1.41 s\n"
     ]
    }
   ],
   "source": [
    "%%time\n",
    "\n",
    "file_path = os.path.join(os.pardir, 'tests', '6130-pdf-compressed-book-i.pdf')\n",
    "chunker = unpdf.chunking.Chunker()\n",
    "\n",
    "doc = unpdf.extraction.extract_text(input_data=file_path)\n",
    "print(f'Pages:', len(doc))\n",
    "\n",
    "paragraphs = chunker.get_quasiparagraphs(doc)\n",
    "print('Paragraphs:', len(paragraphs))\n",
    "\n",
    "sentences = chunker.get_sentences(doc)\n",
    "print('Sentences:', len(sentences))"
   ],
   "metadata": {
    "collapsed": false,
    "ExecuteTime": {
     "start_time": "2023-04-19T11:22:45.341429Z",
     "end_time": "2023-04-19T11:22:46.749183Z"
    }
   }
  },
  {
   "cell_type": "markdown",
   "source": [
    "## IV. Utilities"
   ],
   "metadata": {
    "collapsed": false
   }
  },
  {
   "cell_type": "code",
   "execution_count": 19,
   "outputs": [
    {
     "data": {
      "text/plain": "True"
     },
     "execution_count": 19,
     "metadata": {},
     "output_type": "execute_result"
    }
   ],
   "source": [
    "# download a PDF from a URL\n",
    "url = 'https://github.com/UNDP-Data/unpdf/raw/main/tests/6130-pdf-compressed-book-i.pdf'\n",
    "unpdf.utils.download_pdf(url=url)"
   ],
   "metadata": {
    "collapsed": false,
    "ExecuteTime": {
     "start_time": "2023-04-19T11:22:46.749825Z",
     "end_time": "2023-04-19T11:22:47.180849Z"
    }
   }
  },
  {
   "cell_type": "code",
   "execution_count": 19,
   "outputs": [],
   "source": [],
   "metadata": {
    "collapsed": false,
    "ExecuteTime": {
     "start_time": "2023-04-19T11:22:47.180775Z",
     "end_time": "2023-04-19T11:22:47.183615Z"
    }
   }
  }
 ],
 "metadata": {
  "kernelspec": {
   "display_name": "Python 3",
   "language": "python",
   "name": "python3"
  },
  "language_info": {
   "codemirror_mode": {
    "name": "ipython",
    "version": 2
   },
   "file_extension": ".py",
   "mimetype": "text/x-python",
   "name": "python",
   "nbconvert_exporter": "python",
   "pygments_lexer": "ipython2",
   "version": "2.7.6"
  }
 },
 "nbformat": 4,
 "nbformat_minor": 0
}
